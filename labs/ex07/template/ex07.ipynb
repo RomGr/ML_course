{
 "cells": [
  {
   "cell_type": "code",
   "execution_count": 1,
   "metadata": {},
   "outputs": [],
   "source": [
    "# Useful starting lines\n",
    "%matplotlib inline\n",
    "\n",
    "import random\n",
    "from datetime import datetime\n",
    "\n",
    "import numpy as np\n",
    "import matplotlib.pyplot as plt\n",
    "%load_ext autoreload\n",
    "%autoreload 2"
   ]
  },
  {
   "cell_type": "markdown",
   "metadata": {},
   "source": [
    "# Support Vector Machines\n",
    "## Classification Using SVM\n",
    "Load dataset. We will use a toy dataset from sklearn."
   ]
  },
  {
   "cell_type": "code",
   "execution_count": 2,
   "metadata": {},
   "outputs": [
    {
     "name": "stdout",
     "output_type": "stream",
     "text": [
      "(N, D) = (569, 31)\n"
     ]
    }
   ],
   "source": [
    "from sklearn import datasets\n",
    "from helpers import * \n",
    "\n",
    "#Load dataset\n",
    "sklearn_dataset = datasets.load_breast_cancer()\n",
    "Xx  = sklearn_dataset.data\n",
    "y = sklearn_dataset.target * 2 - 1    # labels must be in {-1, 1} for the hinge loss\n",
    "X = np.ones((Xx.shape[0], Xx.shape[1] + 1 ))    # add a column of ones for intercept\n",
    "X[:, :-1] = Xx\n",
    "print(\"(N, D) =\", X.shape)"
   ]
  },
  {
   "cell_type": "markdown",
   "metadata": {},
   "source": [
    "## Prepare cost and prediction functions"
   ]
  },
  {
   "cell_type": "code",
   "execution_count": 3,
   "metadata": {},
   "outputs": [],
   "source": [
    "def calculate_primal_objective(y, X, w, lambda_):\n",
    "    \"\"\"compute the full cost (the primal objective), that is loss plus regularizer.\n",
    "    X: the full dataset matrix, shape = (num_examples, num_features)\n",
    "    y: the corresponding +1 or -1 labels, shape = (num_examples)\n",
    "    w: shape = (num_features)\n",
    "    \"\"\"\n",
    "    hinge = np.clip(1-y*(X@w), 0, np.inf)\n",
    "    return np.sum(hinge)+lambda_/2*np.sum(np.power((w),2))"
   ]
  },
  {
   "cell_type": "code",
   "execution_count": 4,
   "metadata": {},
   "outputs": [],
   "source": [
    "def calculate_accuracy(y, X, w):\n",
    "    \"\"\"compute the training accuracy on the training set (can be called for test set as well).\n",
    "    X: the full dataset matrix, shape = (num_examples, num_features)\n",
    "    y: the corresponding +1 or -1 labels, shape = (num_examples)\n",
    "    w: shape = (num_features)\n",
    "    \"\"\"\n",
    "    y_pred = predict_labels(w, X)\n",
    "    return np.mean(y_pred==y)"
   ]
  },
  {
   "cell_type": "markdown",
   "metadata": {},
   "source": [
    "## Stochastic Gradient Descent for SVM"
   ]
  },
  {
   "cell_type": "markdown",
   "metadata": {},
   "source": [
    "Compute the (stochastic) subgradient for the n-th summand of the SVM optimization objective"
   ]
  },
  {
   "cell_type": "code",
   "execution_count": 5,
   "metadata": {},
   "outputs": [],
   "source": [
    "def is_not_zero(x_n, y_n, w):\n",
    "    return y_n * x_n @ w < 1\n",
    "\n",
    "def calculate_stochastic_gradient(y, X, w, lambda_, n, num_examples):\n",
    "    \"\"\"compute the stochastic gradient of loss plus regularizer.\n",
    "    X: the dataset matrix, shape = (num_examples, num_features)\n",
    "    y: the corresponding +1 or -1 labels, shape = (num_examples)\n",
    "    w: shape = (num_features)\n",
    "    n: the index of the (one) datapoint we have sampled\n",
    "    num_examples: N\n",
    "    \"\"\"\n",
    "    \n",
    "    # Be careful about the constant N (size) term!\n",
    "    # The complete objective for SVM is a sum, not an average as in earlier SGD examples!\n",
    "    \n",
    "    x_n, y_n = X[n], y[n]\n",
    "    grad = - y_n * x_n.T if is_not_zero(x_n, y_n, w) else np.zeros_like(x_n.T)\n",
    "    grad = num_examples * grad + lambda_*w\n",
    "    \n",
    "    return grad"
   ]
  },
  {
   "cell_type": "markdown",
   "metadata": {},
   "source": [
    "Implement stochastic gradient descent: Pick a data point uniformly at random and update w based on the gradient for the n-th summand of the objective"
   ]
  },
  {
   "cell_type": "code",
   "execution_count": 6,
   "metadata": {},
   "outputs": [
    {
     "name": "stdout",
     "output_type": "stream",
     "text": [
      "iteration=0, cost=27903095.95542059\n",
      "iteration=10000, cost=278.02911883753285\n",
      "iteration=20000, cost=191.9232499750167\n",
      "iteration=30000, cost=175.6715978994568\n",
      "iteration=40000, cost=155.80834093847827\n",
      "iteration=50000, cost=208.05631754785648\n",
      "iteration=60000, cost=141.99889133834068\n",
      "iteration=70000, cost=135.42471050704634\n",
      "iteration=80000, cost=160.3995148352525\n",
      "iteration=90000, cost=159.04280400665564\n",
      "iteration=100000, cost=147.19462160909274\n",
      "iteration=110000, cost=156.35772883680633\n",
      "iteration=120000, cost=162.0068331183956\n",
      "iteration=130000, cost=130.6104863447405\n",
      "iteration=140000, cost=144.12616905197405\n",
      "iteration=150000, cost=144.29447386732747\n",
      "iteration=160000, cost=128.6832175348942\n",
      "iteration=170000, cost=141.80602628865506\n",
      "iteration=180000, cost=132.49209540919304\n",
      "iteration=190000, cost=131.2923814764557\n",
      "training accuracy = 0.9138840070298769\n"
     ]
    }
   ],
   "source": [
    "def sgd_for_svm_demo(y, X):\n",
    "    \n",
    "    max_iter = 2 * int(1e5)\n",
    "    gamma = 1e-4\n",
    "    lambda_ = int(1e4)   # big because scales with N due to the formulation of the problem (not an averaged loss)\n",
    "\n",
    "    num_examples, num_features = X.shape\n",
    "    w = np.zeros(num_features)\n",
    "    \n",
    "    for it in range(max_iter):\n",
    "        # n = sample one data point uniformly at random data from x\n",
    "        n = random.randint(0,num_examples-1)\n",
    "        \n",
    "        grad = calculate_stochastic_gradient(y, X, w, lambda_, n, num_examples)\n",
    "        w -= gamma/(it+1) * grad\n",
    "        \n",
    "        if it % 10000 == 0:\n",
    "            cost = calculate_primal_objective(y, X, w, lambda_)\n",
    "            print(\"iteration={i}, cost={c}\".format(i=it, c=cost))\n",
    "    \n",
    "    print(\"training accuracy = {l}\".format(l=calculate_accuracy(y, X, w)))\n",
    "\n",
    "sgd_for_svm_demo(y, X)"
   ]
  },
  {
   "cell_type": "markdown",
   "metadata": {},
   "source": [
    "## Coordinate Descent (Ascent) for SVM"
   ]
  },
  {
   "cell_type": "markdown",
   "metadata": {},
   "source": [
    "Compute the closed-form update for the n-th variable alpha, in the dual optimization problem, given alpha and the current corresponding w"
   ]
  },
  {
   "cell_type": "code",
   "execution_count": 7,
   "metadata": {},
   "outputs": [],
   "source": [
    "def calculate_coordinate_update(y, X, lambda_, alpha, w, n):\n",
    "    \"\"\"compute a coordinate update (closed form) for coordinate n.\n",
    "    X: the dataset matrix, shape = (num_examples, num_features)\n",
    "    y: the corresponding +1 or -1 labels, shape = (num_examples)\n",
    "    w: shape = (num_features)\n",
    "    n: the coordinate to be updated\n",
    "    \"\"\"\n",
    "    x_n, y_n = X[n], y[n]\n",
    "    old_alpha_n = np.copy(alpha[n])\n",
    "    gamma = (y_n*w.T@x_n - 1)\n",
    "    \n",
    "    if old_alpha_n==0:\n",
    "        gamma = min(0.0, gamma)\n",
    "    elif old_alpha_n==1:\n",
    "        gamma = max(0.0, gamma)\n",
    "    else:\n",
    "        gamma = gamma\n",
    "\n",
    "    alpha[n]=min(\n",
    "        max(old_alpha_n - gamma*lambda_/(x_n.T@x_n),0)\n",
    "        ,1)\n",
    "    w += 1/lambda_*(alpha[n]-old_alpha_n)*x_n*y_n\n",
    "    return w, alpha"
   ]
  },
  {
   "cell_type": "code",
   "execution_count": 8,
   "metadata": {},
   "outputs": [],
   "source": [
    "def calculate_dual_objective(y, X, w, alpha, lambda_):\n",
    "    \"\"\"calculate the objective for the dual problem.\"\"\"\n",
    "    return np.sum(alpha) - lambda_ / 2.0 * np.sum(w ** 2)"
   ]
  },
  {
   "cell_type": "code",
   "execution_count": 9,
   "metadata": {},
   "outputs": [
    {
     "name": "stdout",
     "output_type": "stream",
     "text": [
      "iteration=0, primal:1353.30283, dual:0.04942, gap:1353.25341\n",
      "iteration=10000, primal:153.91661, dual:30.56949, gap:123.34712\n",
      "iteration=20000, primal:138.10314, dual:55.21300, gap:82.89014\n",
      "iteration=30000, primal:154.73008, dual:74.86316, gap:79.86692\n",
      "iteration=40000, primal:131.45037, dual:89.35775, gap:42.09262\n",
      "iteration=50000, primal:127.48179, dual:98.51894, gap:28.96285\n",
      "iteration=60000, primal:128.32375, dual:104.69538, gap:23.62837\n",
      "iteration=70000, primal:131.36238, dual:108.80028, gap:22.56210\n",
      "iteration=80000, primal:163.28518, dual:111.81499, gap:51.47019\n",
      "iteration=90000, primal:124.45221, dual:114.36417, gap:10.08804\n",
      "iteration=100000, primal:134.48530, dual:115.98487, gap:18.50043\n",
      "iteration=110000, primal:123.42293, dual:117.22538, gap:6.19755\n",
      "iteration=120000, primal:124.13472, dual:118.13647, gap:5.99824\n",
      "iteration=130000, primal:125.45809, dual:118.80970, gap:6.64838\n",
      "iteration=140000, primal:123.13375, dual:119.40269, gap:3.73107\n",
      "iteration=150000, primal:122.74884, dual:119.89200, gap:2.85684\n",
      "iteration=160000, primal:122.84018, dual:120.34666, gap:2.49352\n",
      "iteration=170000, primal:124.80528, dual:120.66715, gap:4.13813\n",
      "iteration=180000, primal:123.45463, dual:120.95524, gap:2.49938\n",
      "iteration=190000, primal:122.73215, dual:121.16657, gap:1.56557\n",
      "training accuracy = 0.9279437609841827\n"
     ]
    }
   ],
   "source": [
    "def coordinate_descent_for_svm_demo(y, X):\n",
    "    max_iter = 2*int(1e5)\n",
    "    lambda_ = int(1e4)   # use same lambda as before in order to compare\n",
    "\n",
    "    num_examples, num_features = X.shape\n",
    "    w = np.zeros(num_features)\n",
    "    alpha = np.zeros(num_examples)\n",
    "    \n",
    "    for it in range(max_iter):\n",
    "        # n = sample one data point uniformly at random data from x\n",
    "        n = random.randint(0,num_examples-1)\n",
    "        \n",
    "        w, alpha = calculate_coordinate_update(y, X, lambda_, alpha, w, n)\n",
    "            \n",
    "        if it % 10000 == 0:\n",
    "            # primal objective\n",
    "            primal_value = calculate_primal_objective(y, X, w, lambda_)\n",
    "            # dual objective\n",
    "            dual_value = calculate_dual_objective(y, X, w, alpha, lambda_)\n",
    "            # primal dual gap\n",
    "            duality_gap = primal_value - dual_value\n",
    "            print('iteration=%i, primal:%.5f, dual:%.5f, gap:%.5f'%(\n",
    "                    it, primal_value, dual_value, duality_gap))\n",
    "    print(\"training accuracy = {l}\".format(l=calculate_accuracy(y, X, w)))\n",
    "\n",
    "coordinate_descent_for_svm_demo(y, X)"
   ]
  },
  {
   "cell_type": "code",
   "execution_count": null,
   "metadata": {},
   "outputs": [],
   "source": []
  }
 ],
 "metadata": {
  "anaconda-cloud": {},
  "kernelspec": {
   "display_name": "Python 3",
   "language": "python",
   "name": "python3"
  },
  "language_info": {
   "codemirror_mode": {
    "name": "ipython",
    "version": 3
   },
   "file_extension": ".py",
   "mimetype": "text/x-python",
   "name": "python",
   "nbconvert_exporter": "python",
   "pygments_lexer": "ipython3",
   "version": "3.8.5"
  }
 },
 "nbformat": 4,
 "nbformat_minor": 1
}
